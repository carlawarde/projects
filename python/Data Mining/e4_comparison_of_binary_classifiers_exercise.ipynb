{
 "cells": [
  {
   "cell_type": "markdown",
   "metadata": {},
   "source": [
    "# Etivity 4: Classification (Carla Warde - 17204542) \n",
    "In this etivity I will be training and evaluating a few different classification models.\n",
    "\n",
    "This will be accomplished in the following steps:\n",
    "<ol>\n",
    "    <li>Import data and relevant modules</li>\n",
    "    <li>EDA</li>\n",
    "    <li>Data Preparation</li>\n",
    "    <li>Grid Search for Best Parameters of Classifiers</li>\n",
    "    <li>Compare Classifiers on Test Set</li>\n",
    "    <li>Train a Final Model</li>\n",
    "</ol>\n",
    "\n",
    "## 1. Import Modules and Dataset"
   ]
  },
  {
   "cell_type": "code",
   "execution_count": 1,
   "metadata": {},
   "outputs": [],
   "source": [
    "import pandas as pd\n",
    "import numpy as np\n",
    "from sklearn.pipeline import Pipeline, make_pipeline, FeatureUnion\n",
    "from sklearn.compose import ColumnTransformer\n",
    "from sklearn.base import BaseEstimator, TransformerMixin\n",
    "from sklearn.preprocessing import StandardScaler, RobustScaler, FunctionTransformer\n",
    "from sklearn.model_selection import train_test_split, GridSearchCV\n",
    "from sklearn import svm\n",
    "from sklearn.ensemble import RandomForestClassifier\n",
    "from sklearn.neighbors import KNeighborsClassifier\n",
    "from sklearn.metrics import roc_curve, auc, accuracy_score, precision_recall_fscore_support\n",
    "from scipy import interp\n",
    "import pickle\n",
    "import matplotlib.pyplot as plt\n",
    "%matplotlib inline"
   ]
  },
  {
   "cell_type": "code",
   "execution_count": 2,
   "metadata": {},
   "outputs": [],
   "source": [
    "df = pd.read_csv(\"./seeds.csv\")\n",
    "df.head()\n",
    "\n",
    "# get a copy for later use\n",
    "df_copy = df"
   ]
  },
  {
   "cell_type": "markdown",
   "metadata": {},
   "source": [
    "In our dataset, `type` is our <i>target</i> variable and the rest of the columns are <i>predictors</i>. Following common naming conventions, I will refer to the target as <b>X</b> and the predictors as <b>Y</b>.\n",
    "\n",
    "## 2. EDA\n",
    "Let's start by checking the dataframe for the possible values for $X$."
   ]
  },
  {
   "cell_type": "code",
   "execution_count": 3,
   "metadata": {},
   "outputs": [
    {
     "data": {
      "text/plain": [
       "3    70\n",
       "2    70\n",
       "1    70\n",
       "Name: type, dtype: int64"
      ]
     },
     "execution_count": 3,
     "metadata": {},
     "output_type": "execute_result"
    }
   ],
   "source": [
    "df['type'].value_counts()"
   ]
  },
  {
   "cell_type": "markdown",
   "metadata": {},
   "source": [
    "We can see an even split between the different values of `type` here which is a good sign. Since the data isn't skewed towards a particular value, our models should hopefully be able to make good predictions after we train it on the dataset.\n",
    "\n",
    "Now let's check for any missing values to ensure our data is prepared."
   ]
  },
  {
   "cell_type": "code",
   "execution_count": 4,
   "metadata": {},
   "outputs": [
    {
     "data": {
      "text/plain": [
       "area                       0\n",
       "perimeter                  0\n",
       "compactness                0\n",
       "length of kernel           0\n",
       "width of kernel            0\n",
       "asymmetry coefficient      0\n",
       "length of kernel groove    0\n",
       "type                       0\n",
       "dtype: int64"
      ]
     },
     "execution_count": 4,
     "metadata": {},
     "output_type": "execute_result"
    }
   ],
   "source": [
    "df.isna().sum()"
   ]
  },
  {
   "cell_type": "markdown",
   "metadata": {},
   "source": [
    "Thankfully, the dataset isn't missing any values. Next we'll check for outliers by using a boxplot."
   ]
  },
  {
   "cell_type": "code",
   "execution_count": 5,
   "metadata": {},
   "outputs": [
    {
     "data": {
      "image/png": "[encoded data removed]",
      "text/plain": [
       "<Figure size 1440x360 with 1 Axes>"
      ]
     },
     "metadata": {
      "needs_background": "light"
     },
     "output_type": "display_data"
    }
   ],
   "source": [
    "df.loc[:,'area':'length of kernel groove'].boxplot(figsize=(20,5))\n",
    "plt.show()"
   ]
  },
  {
   "cell_type": "markdown",
   "metadata": {},
   "source": [
    "As seen in the plot, there are very few outliers. Only one or two exist in `compactness` and `asymmetry coefficient`. Let's look at the mean and median of these attributes."
   ]
  },
  {
   "cell_type": "code",
   "execution_count": 6,
   "metadata": {},
   "outputs": [
    {
     "data": {
      "text/html": [
       "<div>\n",
       "<style scoped>\n",
       "    .dataframe tbody tr th:only-of-type {\n",
       "        vertical-align: middle;\n",
       "    }\n",
       "\n",
       "    .dataframe tbody tr th {\n",
       "        vertical-align: top;\n",
       "    }\n",
       "\n",
       "    .dataframe thead th {\n",
       "        text-align: right;\n",
       "    }\n",
       "</style>\n",
       "<table border=\"1\" class=\"dataframe\">\n",
       "  <thead>\n",
       "    <tr style=\"text-align: right;\">\n",
       "      <th></th>\n",
       "      <th>area</th>\n",
       "      <th>perimeter</th>\n",
       "      <th>compactness</th>\n",
       "      <th>length of kernel</th>\n",
       "      <th>width of kernel</th>\n",
       "      <th>asymmetry coefficient</th>\n",
       "      <th>length of kernel groove</th>\n",
       "      <th>type</th>\n",
       "    </tr>\n",
       "  </thead>\n",
       "  <tbody>\n",
       "    <tr>\n",
       "      <th>count</th>\n",
       "      <td>210.000000</td>\n",
       "      <td>210.000000</td>\n",
       "      <td>210.000000</td>\n",
       "      <td>210.000000</td>\n",
       "      <td>210.000000</td>\n",
       "      <td>210.000000</td>\n",
       "      <td>210.000000</td>\n",
       "      <td>210.000000</td>\n",
       "    </tr>\n",
       "    <tr>\n",
       "      <th>mean</th>\n",
       "      <td>14.847524</td>\n",
       "      <td>14.559286</td>\n",
       "      <td>0.870999</td>\n",
       "      <td>5.628533</td>\n",
       "      <td>3.258605</td>\n",
       "      <td>3.700201</td>\n",
       "      <td>5.408071</td>\n",
       "      <td>2.000000</td>\n",
       "    </tr>\n",
       "    <tr>\n",
       "      <th>std</th>\n",
       "      <td>2.909699</td>\n",
       "      <td>1.305959</td>\n",
       "      <td>0.023629</td>\n",
       "      <td>0.443063</td>\n",
       "      <td>0.377714</td>\n",
       "      <td>1.503557</td>\n",
       "      <td>0.491480</td>\n",
       "      <td>0.818448</td>\n",
       "    </tr>\n",
       "    <tr>\n",
       "      <th>min</th>\n",
       "      <td>10.590000</td>\n",
       "      <td>12.410000</td>\n",
       "      <td>0.808100</td>\n",
       "      <td>4.899000</td>\n",
       "      <td>2.630000</td>\n",
       "      <td>0.765100</td>\n",
       "      <td>4.519000</td>\n",
       "      <td>1.000000</td>\n",
       "    </tr>\n",
       "    <tr>\n",
       "      <th>25%</th>\n",
       "      <td>12.270000</td>\n",
       "      <td>13.450000</td>\n",
       "      <td>0.856900</td>\n",
       "      <td>5.262250</td>\n",
       "      <td>2.944000</td>\n",
       "      <td>2.561500</td>\n",
       "      <td>5.045000</td>\n",
       "      <td>1.000000</td>\n",
       "    </tr>\n",
       "    <tr>\n",
       "      <th>50%</th>\n",
       "      <td>14.355000</td>\n",
       "      <td>14.320000</td>\n",
       "      <td>0.873450</td>\n",
       "      <td>5.523500</td>\n",
       "      <td>3.237000</td>\n",
       "      <td>3.599000</td>\n",
       "      <td>5.223000</td>\n",
       "      <td>2.000000</td>\n",
       "    </tr>\n",
       "    <tr>\n",
       "      <th>75%</th>\n",
       "      <td>17.305000</td>\n",
       "      <td>15.715000</td>\n",
       "      <td>0.887775</td>\n",
       "      <td>5.979750</td>\n",
       "      <td>3.561750</td>\n",
       "      <td>4.768750</td>\n",
       "      <td>5.877000</td>\n",
       "      <td>3.000000</td>\n",
       "    </tr>\n",
       "    <tr>\n",
       "      <th>max</th>\n",
       "      <td>21.180000</td>\n",
       "      <td>17.250000</td>\n",
       "      <td>0.918300</td>\n",
       "      <td>6.675000</td>\n",
       "      <td>4.033000</td>\n",
       "      <td>8.456000</td>\n",
       "      <td>6.550000</td>\n",
       "      <td>3.000000</td>\n",
       "    </tr>\n",
       "  </tbody>\n",
       "</table>\n",
       "</div>"
      ],
      "text/plain": [
       "             area   perimeter  compactness  length of kernel  width of kernel  \\\n",
       "count  210.000000  210.000000   210.000000        210.000000       210.000000   \n",
       "mean    14.847524   14.559286     0.870999          5.628533         3.258605   \n",
       "std      2.909699    1.305959     0.023629          0.443063         0.377714   \n",
       "min     10.590000   12.410000     0.808100          4.899000         2.630000   \n",
       "25%     12.270000   13.450000     0.856900          5.262250         2.944000   \n",
       "50%     14.355000   14.320000     0.873450          5.523500         3.237000   \n",
       "75%     17.305000   15.715000     0.887775          5.979750         3.561750   \n",
       "max     21.180000   17.250000     0.918300          6.675000         4.033000   \n",
       "\n",
       "       asymmetry coefficient  length of kernel groove        type  \n",
       "count             210.000000               210.000000  210.000000  \n",
       "mean                3.700201                 5.408071    2.000000  \n",
       "std                 1.503557                 0.491480    0.818448  \n",
       "min                 0.765100                 4.519000    1.000000  \n",
       "25%                 2.561500                 5.045000    1.000000  \n",
       "50%                 3.599000                 5.223000    2.000000  \n",
       "75%                 4.768750                 5.877000    3.000000  \n",
       "max                 8.456000                 6.550000    3.000000  "
      ]
     },
     "execution_count": 6,
     "metadata": {},
     "output_type": "execute_result"
    }
   ],
   "source": [
    "df.describe()"
   ]
  },
  {
   "cell_type": "markdown",
   "metadata": {},
   "source": [
    "The table shows there's a neglible difference between the mean and median for `compactness` and `asymmetry coefficient`. I argue that the means of these attributes aren't skewed by the outliers and thus a `StandardScalar` will be sufficient to scale all of the predictors. We'll also need to scale `type` to so the values are between 0 and 1.\n",
    "\n",
    "## 3. Data Preparation\n",
    "Before we scale our predictors, we need to prepare a list of column names. This is because when we split our data into training and test datasets, the column names will be lost so we need to store them."
   ]
  },
  {
   "cell_type": "code",
   "execution_count": 7,
   "metadata": {},
   "outputs": [],
   "source": [
    "# store a list with the names of all predictors\n",
    "names_all = [c for c in df if c not in ['type']]"
   ]
  },
  {
   "cell_type": "markdown",
   "metadata": {},
   "source": [
    "### 3.1 Construct Predictor Pre-Processing Pipline\n",
    "As previously discussed, outliers are not an issue in this dataset, thus our pre-processing pipeline will be simple as all predictor columns will be treated the same. All we need to do is apply a StandardScalar to each predictor column in the pipeline."
   ]
  },
  {
   "cell_type": "code",
   "execution_count": 8,
   "metadata": {},
   "outputs": [],
   "source": [
    "class AddColumnNames(BaseEstimator, TransformerMixin):\n",
    "    def __init__(self, columns):\n",
    "        self.columns = columns\n",
    "\n",
    "    def fit(self, X, y=None):\n",
    "        return self\n",
    "\n",
    "    def transform(self, X):\n",
    "        return pd.DataFrame(data=X, columns=self.columns)"
   ]
  },
  {
   "cell_type": "code",
   "execution_count": 9,
   "metadata": {},
   "outputs": [],
   "source": [
    "preprocess_pipeline = make_pipeline(\n",
    "    AddColumnNames(columns=names_all),\n",
    "    StandardScaler()\n",
    ")"
   ]
  },
  {
   "cell_type": "markdown",
   "metadata": {},
   "source": [
    "### 3.2 Transform Target\n",
    "Since the aim of this etivity is to compare <i>binary</i> classifiers, we need to tranform our targe `type` since it has three possible values. I will achieve this by setting every value that is not equal to 1 to 0. This also accomplishes scaling the values between 0 and 1. Unfortunately, changing type so it has two possible values skews the dataset since there's a lot more entries of type 0, but nothing can be done about this."
   ]
  },
  {
   "cell_type": "code",
   "execution_count": 10,
   "metadata": {},
   "outputs": [
    {
     "data": {
      "text/plain": [
       "0    140\n",
       "1     70\n",
       "Name: type, dtype: int64"
      ]
     },
     "execution_count": 10,
     "metadata": {},
     "output_type": "execute_result"
    }
   ],
   "source": [
    "x = df['type']\n",
    "df['type'] = [0 if x_ > 1 else x_ for x_ in x]\n",
    "df['type'].value_counts()"
   ]
  },
  {
   "cell_type": "markdown",
   "metadata": {},
   "source": [
    "### 3.3 Split dataset\n",
    "Since our data is prepared, we can now split it into predictors and target, and training test sets."
   ]
  },
  {
   "cell_type": "code",
   "execution_count": 11,
   "metadata": {},
   "outputs": [],
   "source": [
    "y = df['type']\n",
    "X = df.drop('type', axis=1).values\n",
    "\n",
    "X_train, X_test, y_train, y_test = train_test_split(X, y, test_size=0.2, shuffle=True, stratify=y)"
   ]
  },
  {
   "cell_type": "markdown",
   "metadata": {},
   "source": [
    "## 4. Grid Search for Best Parameters of Classifiers\n",
    "### 4.1 SVM Classifier\n",
    "The next step is to train an SVM classifier with the training set and a range of possible parameters in order to find the best parameters for SVM by cross-validation.\n",
    "\n",
    "To do this I will build another pipeline that contains the preprocessing pipeline and the SVM classifier."
   ]
  },
  {
   "cell_type": "code",
   "execution_count": 19,
   "metadata": {},
   "outputs": [
    {
     "name": "stdout",
     "output_type": "stream",
     "text": [
      "Best CV score = 0.958:\n",
      "Best parameters:  {'svm__C': 100.0, 'svm__coef0': 1.0, 'svm__degree': 2, 'svm__gamma': 0.1, 'svm__kernel': 'poly'}\n"
     ]
    },
    {
     "name": "stderr",
     "output_type": "stream",
     "text": [
      "C:\\ProgramData\\Anaconda3\\lib\\site-packages\\sklearn\\model_selection\\_search.py:847: FutureWarning: The parameter 'iid' is deprecated in 0.22 and will be removed in 0.24.\n",
      "  warnings.warn(\n"
     ]
    }
   ],
   "source": [
    "# create the pipeline\n",
    "pipe = Pipeline(steps=[('preprocess', preprocess_pipeline), ('svm', svm.SVC(probability=True))])\n",
    "\n",
    "# prepare a parameter grid\n",
    "# note that __ can be used to specify the name of a parameter for a specific element in a pipeline\n",
    "# note also that this is not an exhaustive list of the parameters of svn.SVC and their possible values\n",
    "\n",
    "param_grid = {\n",
    "    'svm__C': [0.1, 1.0, 10.0, 30.0, 60.0, 100.0],  \n",
    "    'svm__gamma': [2.0, 1.0, 0.1, 0.01, 0.001], \n",
    "    'svm__kernel': ['rbf', 'linear', 'poly', 'sigmoid'],\n",
    "    # additional parameters for poly and sigmoid\n",
    "    'svm__coef0': [1.0, 0.1,0.01,0.001,0],\n",
    "    'svm__degree': [5,4,3,2,1]\n",
    "}\n",
    "\n",
    "search = GridSearchCV(pipe, param_grid, cv=10, iid=False, refit=True)\n",
    "search.fit(X_train, y_train)\n",
    "print(\"Best CV score = %0.3f:\" % search.best_score_)\n",
    "print(\"Best parameters: \", search.best_params_)\n",
    "\n",
    "# store the best params and best model for later use\n",
    "SVM_best_params = search.best_params_\n",
    "SVM_best_model = search.best_estimator_"
   ]
  },
  {
   "cell_type": "markdown",
   "metadata": {},
   "source": [
    "The best parameters for SVC were as follows:\n",
    "<ul>\n",
    "    <li>C: 100.0</li>\n",
    "    <li>Gamma: 0.1</li>\n",
    "    <li>Kernel: poly</li>\n",
    "    <li>Coef0: 1.0 - Independent term in kernel function. Used in poly and sigmoid kernels.</li>\n",
    "    <li>Degree: 2 - Degree of the polynomial kernel function, it's ignored by other kernels.</li>\n",
    "</ul>\n",
    "\n",
    "### 4.2 Random Forest Classifier\n",
    "Let's repeat the same process with the Random Forest Classifier."
   ]
  },
  {
   "cell_type": "code",
   "execution_count": 13,
   "metadata": {},
   "outputs": [
    {
     "name": "stdout",
     "output_type": "stream",
     "text": [
      "Best CV score = 0.935:\n",
      "Best parameters:  {'rf__max_depth': None, 'rf__max_features': 'log2', 'rf__min_samples_split': 3, 'rf__n_estimators': 100}\n"
     ]
    },
    {
     "name": "stderr",
     "output_type": "stream",
     "text": [
      "C:\\ProgramData\\Anaconda3\\lib\\site-packages\\sklearn\\model_selection\\_search.py:847: FutureWarning: The parameter 'iid' is deprecated in 0.22 and will be removed in 0.24.\n",
      "  warnings.warn(\n"
     ]
    }
   ],
   "source": [
    "# create the pipeline\n",
    "pipe = Pipeline(steps=[('preprocess', preprocess_pipeline), ('rf', RandomForestClassifier())])\n",
    "\n",
    "# prepare a parameter grid\n",
    "# note that __ can be used to specify the name of a parameter for a specific element in a pipeline\n",
    "# note also that this is not an exhaustive list of the parameters of RandomForestClassifier and their possible values\n",
    "param_grid = {\n",
    "    'rf__n_estimators' : [5,10,20,30,50,100],\n",
    "    'rf__max_depth': [2, 4, 6, 8, 10, None],\n",
    "    'rf__min_samples_split' : [1.0,2,3,5],\n",
    "    'rf__max_features' : [None, 'sqrt', 'log2']\n",
    "}\n",
    "\n",
    "search = GridSearchCV(pipe, param_grid, cv=10, iid=False, refit=True)\n",
    "search.fit(X_train, y_train)\n",
    "print(\"Best CV score = %0.3f:\" % search.best_score_)\n",
    "print(\"Best parameters: \", search.best_params_)\n",
    "\n",
    "# store the best params and best model for later use\n",
    "RF_best_params = search.best_params_\n",
    "RF_best_model = search.best_estimator_"
   ]
  },
  {
   "cell_type": "markdown",
   "metadata": {},
   "source": [
    "These are the best parameters for Random Forest Classifier:\n",
    "<ul>\n",
    "    <li>n_estimators: 100</li>\n",
    "    <li>max_depth: None</li>\n",
    "    <li>min_samples_split: 3 - The minimum number of samples required to split an internal node.</li>\n",
    "    <li>max_features: log2 - The number of features to consider when looking for the best split. The default value is None.</li>\n",
    "</ul>\n",
    "\n",
    "### 4.3 KNN Classifier\n",
    "The third model I will be training is the KNN Classifier, also known as the K-Nearest Neighbours Classifier. The KNN Classifier begins with looking for the K nearest neighbours (the default being 5). Then among these neighbors, it counts the number of data points in each category. The new data point is then assigned to the category that had the most neighbours.\n",
    "\n",
    "I decided to use this model since being able to test different values of K could produce interesting results. Also, the algorithm can be set up similarly to SVM and RF unlike MLP which cannot use the prepocess_pipeline."
   ]
  },
  {
   "cell_type": "code",
   "execution_count": 14,
   "metadata": {},
   "outputs": [
    {
     "name": "stdout",
     "output_type": "stream",
     "text": [
      "Best CV score = 0.941:\n",
      "Best parameters:  {'knn__algorithm': 'auto', 'knn__leaf_size': 10, 'knn__n_neighbors': 6, 'knn__p': 1, 'knn__weights': 'distance'}\n"
     ]
    },
    {
     "name": "stderr",
     "output_type": "stream",
     "text": [
      "C:\\ProgramData\\Anaconda3\\lib\\site-packages\\sklearn\\model_selection\\_search.py:847: FutureWarning: The parameter 'iid' is deprecated in 0.22 and will be removed in 0.24.\n",
      "  warnings.warn(\n"
     ]
    }
   ],
   "source": [
    "# create the pipeline\n",
    "pipe = Pipeline(steps=[('preprocess', preprocess_pipeline), ('knn', KNeighborsClassifier())])\n",
    "\n",
    "# prepare a parameter grid\n",
    "# note that __ can be used to specify the name of a parameter for a specific element in a pipeline\n",
    "# note also that this is not an exhaustive list of the parameters of RandomForestClassifier and their possible values\n",
    "param_grid = {\n",
    "    'knn__n_neighbors' : [3,4,5,6,7],\n",
    "    'knn__weights': ['uniform', 'distance'],\n",
    "    'knn__algorithm': ['auto', 'ball_tree', 'kd_tree', 'brute'],\n",
    "    'knn__leaf_size': [10,20,30,40,50],\n",
    "    'knn__p': [1, 2]\n",
    "}\n",
    "\n",
    "search = GridSearchCV(pipe, param_grid, cv=10, iid=False, refit=True)\n",
    "search.fit(X_train, y_train)\n",
    "print(\"Best CV score = %0.3f:\" % search.best_score_)\n",
    "print(\"Best parameters: \", search.best_params_)\n",
    "\n",
    "# store the best params and best model for later use\n",
    "KNN_best_params = search.best_params_\n",
    "KNN_best_model = search.best_estimator_"
   ]
  },
  {
   "cell_type": "markdown",
   "metadata": {},
   "source": [
    "These are the best parameters for KNN Classifier:\n",
    "<ul>\n",
    "    <li>n_neighbours: 6 - Number of neighbors to use for kneighbors queries. The default is 5.</li>\n",
    "    <li>weights: distance - The weight function used in prediction.</li>\n",
    "    <li>algorithm: auto - Algorithm used to compute the nearest neighbors:</li>\n",
    "    <li>leaf_size: 10 - Leaf size passed to BallTree or KDTree.</li>\n",
    "    <li>p: 1 - Power parameter for the Minkowski metric. When p = 1, this is equivalent to using manhattan_distance, and euclidean_distance for p = 2.</li>\n",
    "</ul>\n",
    "\n",
    "\n",
    "## 5. Compare Classifiers on Test Set"
   ]
  },
  {
   "cell_type": "markdown",
   "metadata": {},
   "source": [
    "Now that the models have been trained, we can evaluate their performance on the test set by comparing a series of metrics:\n",
    "\n",
    "- accuracy\n",
    "- precisions\n",
    "- recall\n",
    "- F1-score\n",
    "- TPR (true positive rate)\n",
    "- AUC (area under the ROC curve)\n",
    "\n",
    "To plot ROC curves we have to ensure the same false positive rate scale is used for all models. This is why I'll create a scale of 100 equally spaced false positive values between 0 and 1."
   ]
  },
  {
   "cell_type": "code",
   "execution_count": 15,
   "metadata": {},
   "outputs": [],
   "source": [
    "mean_fpr = np.linspace(start=0, stop=1, num=100)"
   ]
  },
  {
   "cell_type": "markdown",
   "metadata": {},
   "source": [
    "Now we need a function that can evaluate the perforance of the models."
   ]
  },
  {
   "cell_type": "code",
   "execution_count": 16,
   "metadata": {},
   "outputs": [],
   "source": [
    "# model - a trained binary probabilistic classification model;\n",
    "#         it is assumed that there are two classes: 0 and 1\n",
    "#         and the classifier learns to predict probabilities for the examples to belong to class 1\n",
    "\n",
    "def evaluate_model(X_test, y_test, model):\n",
    "    # compute probabilistic predictiond for the evaluation set\n",
    "    _probabilities = model.predict_proba(X_test)[:, 1]\n",
    "    \n",
    "    # compute exact predictiond for the evaluation set\n",
    "    _predicted_values = model.predict(X_test)\n",
    "        \n",
    "    # compute accuracy\n",
    "    _accuracy = accuracy_score(y_test, _predicted_values)\n",
    "        \n",
    "    # compute precision, recall and f1 score for class 1\n",
    "    _precision, _recall, _f1_score, _ = precision_recall_fscore_support(y_test, _predicted_values, labels=[1])\n",
    "    \n",
    "    # compute fpr and tpr values for various thresholds \n",
    "    # by comparing the true target values to the predicted probabilities for class 1\n",
    "    _fpr, _tpr, _ = roc_curve(y_test, _probabilities)\n",
    "        \n",
    "    # compute true positive rates for the values in the array mean_fpr\n",
    "    _tpr_transformed = np.array([interp(mean_fpr, _fpr, _tpr)])\n",
    "    \n",
    "    # compute the area under the curve\n",
    "    _auc = auc(_fpr, _tpr)\n",
    "            \n",
    "    return _accuracy, _precision[0], _recall[0], _f1_score[0], _tpr_transformed, _auc"
   ]
  },
  {
   "cell_type": "markdown",
   "metadata": {},
   "source": [
    "To evaluate the models, I'll call the function for each model and then plot the data on a bar chart."
   ]
  },
  {
   "cell_type": "code",
   "execution_count": 17,
   "metadata": {},
   "outputs": [
    {
     "name": "stderr",
     "output_type": "stream",
     "text": [
      "<ipython-input-16-e712ba2ef97f>:23: DeprecationWarning: scipy.interp is deprecated and will be removed in SciPy 2.0.0, use numpy.interp instead\n",
      "  _tpr_transformed = np.array([interp(mean_fpr, _fpr, _tpr)])\n",
      "<ipython-input-16-e712ba2ef97f>:23: DeprecationWarning: scipy.interp is deprecated and will be removed in SciPy 2.0.0, use numpy.interp instead\n",
      "  _tpr_transformed = np.array([interp(mean_fpr, _fpr, _tpr)])\n",
      "<ipython-input-16-e712ba2ef97f>:23: DeprecationWarning: scipy.interp is deprecated and will be removed in SciPy 2.0.0, use numpy.interp instead\n",
      "  _tpr_transformed = np.array([interp(mean_fpr, _fpr, _tpr)])\n"
     ]
    }
   ],
   "source": [
    "SVM_accuracy, SVM_precision, SVM_recall, SVM_f1_score, SVM_tpr, SVM_auc = evaluate_model(X_test, y_test, SVM_best_model)\n",
    "RF_accuracy, RF_precision, RF_recall, RF_f1_score, RF_tpr, RF_auc = evaluate_model(X_test, y_test, RF_best_model)\n",
    "KNN_accuracy, KNN_precision, KNN_recall, KNN_f1_score, KNN_tpr, KNN_auc = evaluate_model(X_test, y_test, KNN_best_model)"
   ]
  },
  {
   "cell_type": "code",
   "execution_count": 18,
   "metadata": {},
   "outputs": [
    {
     "data": {
      "image/png": "[encoded data removed]",
      "text/plain": [
       "<Figure size 432x288 with 1 Axes>"
      ]
     },
     "metadata": {
      "needs_background": "light"
     },
     "output_type": "display_data"
    }
   ],
   "source": [
    "SVM_metrics = np.array([SVM_accuracy, SVM_precision, SVM_recall, SVM_f1_score])\n",
    "RF_metrics = np.array([RF_accuracy, RF_precision, RF_recall, RF_f1_score])\n",
    "KNN_metrics = np.array([KNN_accuracy, KNN_precision, KNN_recall, KNN_f1_score])\n",
    "index = ['accuracy', 'precision', 'recall', 'F1-score']\n",
    "df_metrics = pd.DataFrame({'SVM': SVM_metrics, 'RF': RF_metrics, 'KNN': KNN_metrics}, index=index)\n",
    "df_metrics.plot.bar(rot=0)\n",
    "plt.legend(loc=\"lower right\")\n",
    "plt.show()"
   ]
  },
  {
   "cell_type": "markdown",
   "metadata": {},
   "source": [
    "The following can be noted from the above bar chart:\n",
    "\n",
    "- SVM consistently scores the highest in each category\n",
    "- RF and KNN have the same results in each category\n",
    "\n",
    "Thus it can be concluded that SVM is the best classifier since it outperforms the other two in every category."
   ]
  },
  {
   "cell_type": "code",
   "execution_count": 20,
   "metadata": {},
   "outputs": [
    {
     "data": {
      "image/png": "[encoded data removed]",
      "text/plain": [
       "<Figure size 432x288 with 1 Axes>"
      ]
     },
     "metadata": {
      "needs_background": "light"
     },
     "output_type": "display_data"
    }
   ],
   "source": [
    "plt.plot([0, 1], [0, 1], linestyle='--', lw=2, color='r', label='Chance', alpha=0.8)\n",
    "plt.plot(mean_fpr, SVM_tpr[0,:], lw=2, color='blue', label='SVM (AUC = %0.2f)' % (SVM_auc), alpha=0.8)\n",
    "plt.plot(mean_fpr, RF_tpr[0,:], lw=2, color='orange', label='Random Forest (AUC = %0.2f)' % (RF_auc), alpha=0.8)\n",
    "plt.plot(mean_fpr, KNN_tpr[0,:], lw=2, color='green', label='K Nearest Neighbors (AUC = %0.2f)' % (KNN_auc), alpha=0.8)\n",
    "plt.xlabel('False Positive Rate')\n",
    "plt.ylabel('True Positive Rate')\n",
    "plt.title('ROC curves for multiple classifiers')\n",
    "plt.legend(loc=\"lower right\")\n",
    "plt.show()"
   ]
  },
  {
   "cell_type": "markdown",
   "metadata": {},
   "source": [
    "The ROC curve supports the conclusion that the SVM is the best classifier since it has an AUC of 1.0. It also reveals that RF peformed better than KNN overall despite having the same result as KNN in the rest of the metrics, since it's AUC is 0.98 and KNN is 0.95."
   ]
  },
  {
   "cell_type": "markdown",
   "metadata": {},
   "source": [
    "## 6. Train a Final Model"
   ]
  },
  {
   "cell_type": "markdown",
   "metadata": {},
   "source": [
    "Now that it's been established that SVC is the best classifier, I can train the final model based on the the parameters selected earlier. Then I'll use pickle to save a copy of the model."
   ]
  },
  {
   "cell_type": "code",
   "execution_count": 21,
   "metadata": {},
   "outputs": [],
   "source": [
    "# function to remove the string 'svm__' from the names of the parameters in SVM_best_params\n",
    "def transform(dict):\n",
    "    return {key.replace('svm__','') :  value for key, value in dict.items()}\n",
    "\n",
    "pipe = make_pipeline(preprocess_pipeline, svm.SVC(**transform(SVM_best_params)))\n",
    "\n",
    "final_model =pipe.fit(X, y)"
   ]
  },
  {
   "cell_type": "code",
   "execution_count": 22,
   "metadata": {},
   "outputs": [],
   "source": [
    "filename = 'final_model.sav'\n",
    "pickle.dump(final_model, open(filename, 'wb'))"
   ]
  },
  {
   "cell_type": "code",
   "execution_count": null,
   "metadata": {},
   "outputs": [],
   "source": []
  }
 ],
 "metadata": {
  "kernelspec": {
   "display_name": "Python 3",
   "language": "python",
   "name": "python3"
  },
  "language_info": {
   "codemirror_mode": {
    "name": "ipython",
    "version": 3
   },
   "file_extension": ".py",
   "mimetype": "text/x-python",
   "name": "python",
   "nbconvert_exporter": "python",
   "pygments_lexer": "ipython3",
   "version": "3.8.5"
  }
 },
 "nbformat": 4,
 "nbformat_minor": 4
}
